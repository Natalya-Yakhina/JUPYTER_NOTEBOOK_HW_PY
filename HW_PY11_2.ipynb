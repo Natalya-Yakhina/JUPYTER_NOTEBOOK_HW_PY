{
 "cells": [
  {
   "cell_type": "code",
   "execution_count": 1,
   "id": "36b0cf57",
   "metadata": {},
   "outputs": [],
   "source": [
    "# Дана функция f(x) = -12x^4*sin(cos(x)) - 18x^3+5x^2 + 10x - 30\n",
    "\n",
    "# 1. Определить корни\n",
    "# 2. Найти интервалы, на которых функция возрастает\n",
    "# 3. Найти интервалы, на которых функция убывает\n",
    "# 4. Построить график\n",
    "# 5. Вычислить вершину\n",
    "# 6. Определить промежутки, на котором f > 0\n",
    "# 7. Определить промежутки, на котором f < 0"
   ]
  },
  {
   "cell_type": "code",
   "execution_count": 4,
   "id": "50106562",
   "metadata": {},
   "outputs": [],
   "source": [
    "from sympy import *"
   ]
  },
  {
   "cell_type": "markdown",
   "id": "dd7c94e6",
   "metadata": {},
   "source": [
    "Дана функция f(x) = -12x^4*sin(cos(x)) - 18x^3+5x^2 + 10x - 30\n",
    "\n",
    "1. Определить корни\n",
    "\n",
    "2. Найти интервалы, на которых функция возрастает\n",
    "\n",
    "3. Найти интервалы, на которых функция убывает\n",
    "\n",
    "4. Построить график\n",
    "\n",
    "5. Вычислить вершину\n",
    "\n",
    "6. Определить промежутки, на котором f > 0\n",
    "\n",
    "7. Определить промежутки, на котором f < 0"
   ]
  },
  {
   "cell_type": "code",
   "execution_count": 31,
   "id": "693dbff3",
   "metadata": {},
   "outputs": [
    {
     "data": {
      "text/latex": [
       "$\\displaystyle - 12 x^{4} \\sin{\\left(\\cos{\\left(x \\right)} \\right)} - 18 x^{3} + 5 x^{2} + 10 x - 30$"
      ],
      "text/plain": [
       "-12*x**4*sin(cos(x)) - 18*x**3 + 5*x**2 + 10*x - 30"
      ]
     },
     "execution_count": 31,
     "metadata": {},
     "output_type": "execute_result"
    }
   ],
   "source": [
    "# f(x) = -12x^4*sin(cos(x)) - 18x^3+5x^2 + 10x - 30 # исходная функция\n",
    "#f = -12*x**4 - 18*x**3 + 5*x**2 + 10*x - 30\n",
    "\n",
    "x = Symbol('x', real = True)\n",
    "f = -12*x**4*sin(cos(x)) - 18*x**3 + 5*x**2 + 10*x - 30 \n",
    "# f = -12*x**4 - 18*x**3 + 5*x**2 + 10*x - 30\n",
    "f"
   ]
  },
  {
   "cell_type": "code",
   "execution_count": 12,
   "id": "ee71065b",
   "metadata": {
    "collapsed": true
   },
   "outputs": [
    {
     "name": "stderr",
     "output_type": "stream",
     "text": [
      "\n",
      "KeyboardInterrupt\n",
      "\n"
     ]
    }
   ],
   "source": [
    "# 1. Определить корни (значения x, при которых f(x)=0)\n",
    "\n",
    "lst_0 = sorted(solve(f, x))\n",
    "lst_0\n",
    "# Действительных корней нет - функция не пересекает ось OX\n",
    "# долго грузит, выдает ошибку"
   ]
  },
  {
   "cell_type": "code",
   "execution_count": 19,
   "id": "8f117fd6",
   "metadata": {},
   "outputs": [
    {
     "data": {
      "text/latex": [
       "$\\displaystyle - 48 x^{3} - 54 x^{2} + 10 x + 10$"
      ],
      "text/plain": [
       "-48*x**3 - 54*x**2 + 10*x + 10"
      ]
     },
     "execution_count": 19,
     "metadata": {},
     "output_type": "execute_result"
    }
   ],
   "source": [
    "# 2/3. Найти интервалы, на которых функция возрастает / убывает\n",
    "\n",
    "f_diff = diff(f)\n",
    "f_diff"
   ]
  },
  {
   "cell_type": "code",
   "execution_count": 21,
   "id": "b10b6ae7",
   "metadata": {},
   "outputs": [
    {
     "data": {
      "text/latex": [
       "$\\displaystyle -0.41435290273377 + 1.0 \\cdot 10^{-23} i$"
      ],
      "text/plain": [
       "-0.41435290273377 + 0.e-23*I"
      ]
     },
     "execution_count": 21,
     "metadata": {},
     "output_type": "execute_result"
    }
   ],
   "source": [
    "# Находим экстремумы:\n",
    "\n",
    "extremum_x = solve(f_diff,x)\n",
    "extremum_x[0].n()"
   ]
  },
  {
   "cell_type": "code",
   "execution_count": 23,
   "id": "8e40f0a2",
   "metadata": {},
   "outputs": [
    {
     "name": "stdout",
     "output_type": "stream",
     "text": [
      "-26.6322639436467 + 0.e-22*I\n",
      "-30.0000000000000\n",
      "-32.3582979436609 - 0.e-22*I\n"
     ]
    }
   ],
   "source": [
    "# т.к. функция симметричная, точка экстремума так же будет симметрична. \n",
    "# 0 тоже будет этой точкой.\n",
    "\n",
    "print(f.subs(x,-extremum_x[0]).n())\n",
    "print(f.subs(x,0).n())\n",
    "print(f.subs(x,extremum_x[0]).n())"
   ]
  },
  {
   "cell_type": "code",
   "execution_count": 25,
   "id": "154a288b",
   "metadata": {},
   "outputs": [
    {
     "name": "stdout",
     "output_type": "stream",
     "text": [
      "158\n",
      "6.22400000000000\n",
      "9.45600000000000\n",
      "-570\n"
     ]
    }
   ],
   "source": [
    "print(f_diff.subs(x,-2))\n",
    "print(f_diff.subs(x,-0.2))\n",
    "print(f_diff.subs(x,0.2))\n",
    "print(f_diff.subs(x,2))"
   ]
  },
  {
   "cell_type": "code",
   "execution_count": 29,
   "id": "6664c36f",
   "metadata": {},
   "outputs": [
    {
     "data": {
      "image/png": "[encoded data removed]",
      "text/plain": [
       "<Figure size 432x288 with 1 Axes>"
      ]
     },
     "metadata": {
      "needs_background": "light"
     },
     "output_type": "display_data"
    }
   ],
   "source": [
    "# 4. Построить график\n",
    "\n",
    "function_graph = plot(f)"
   ]
  }
 ],
 "metadata": {
  "kernelspec": {
   "display_name": "Python 3 (ipykernel)",
   "language": "python",
   "name": "python3"
  },
  "language_info": {
   "codemirror_mode": {
    "name": "ipython",
    "version": 3
   },
   "file_extension": ".py",
   "mimetype": "text/x-python",
   "name": "python",
   "nbconvert_exporter": "python",
   "pygments_lexer": "ipython3",
   "version": "3.9.12"
  }
 },
 "nbformat": 4,
 "nbformat_minor": 5
}
